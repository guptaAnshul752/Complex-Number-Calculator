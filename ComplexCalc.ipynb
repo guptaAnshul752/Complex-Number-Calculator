# Complex Number Calculator

# Importing Necessary Header Files
import math
import numpy as np

class complex_numbers:

    def __init__(self,real,imag):
        self.real=real
        self.imag=imag

    def __repr__(self):

        if self.real == 0.0 and self.imag == 0.0:
            return "0.00"
        if self.real == 0:
            return "%.2fj" % self.imag
        if self.imag == 0:
            return "%.2f" % self.real
        return "%.2f %s %.2fj" % (self.real, "+" if self.imag >= 0 else "-", abs(self.imag))

    def __add__(self,other):
        x = self.real + other.real
        y = self.imag + other.imag
        return complex_numbers(x,y)

    def __sub__(self,other):
        x = self.real - other.real
        y = self.imag - other.imag
        return complex_numbers(x,y)

    def __mul__(self,other):
        x = self.real*other.real - self.imag*other.imag
        y = self.imag*other.real + self.real*other.imag
        return complex_numbers(x,y)

    def __truediv__(self,other):
        x= (self.real*other.real + self.imag*other.imag)/(other.real**2 + other.imag**2)
        y= (self.imag*other.real - self.real*other.imag )/(other.real**2 + other.imag**2)
        return complex_numbers(x,y)

    def modulus(self):
        return (self.real**2 + self.imag**2)**0.5

    def argument(self):
        return math.degrees(math.atan((self.imag/self.real)))

    def conjugate(self):
        if self.imag>=0:
            x= self.real
            y= -self.imag
        elif self.imag==0:
            x=self.real
            y=0
        else:
            x= self.real
            y= abs(self.imag)
        return complex_numbers(x,y)
    
print("This is a Complex Number Calculator")
print("Select operation.")
print("1.Addition")
print("2.Subtraction")
print("3.Multiplication")
print("4.Division")
print("5.Modulus Value")
print("6.Conjugate")
print("7.Argument Value")
choice = int(input("Enter choice: "))

# Dictionary to Map Choices
def Choicee(choice): 
    switcher = { 
        1: "Addition", 
        2: "Subtraction", 
        3: "Multiplication", 
        4: "Division",
        5: "Modulus Value",
        6: "Conjugate",
        7: "Argument Value"
    }  
    return switcher.get(choice, "Invalid Choice")

if choice <=7:
    print("You have chosen",Choicee(choice))
else: 
    print("Invalid Choice")
    choice = int(input("Enter choice: "))
if choice<=4:
    print("Enter 1st Complex Number:")
    a=input()            
    print("1st complex number: ",complex(a))
    a1=complex(a).real
    a2=complex(a).imag
    print("Enter 2nd Complex Number:")
    b=input()
    print("2nd complex number: ",complex(b))
    b1=complex(b).real
    b2=complex(b).imag
else:
    print("Enter the Complex Number:")
    a=input()            
    print("Complex number: ",complex(a))
    a1=complex(a).real
    a2=complex(a).imag

print("The {fname} of given complex number is: ".format(fname = Choicee(choice)))

# Calling class objects
if(choice==1):
    comp_1=complex_numbers(a1,a2)
    comp_2=complex_numbers(b1,b2)
    comp_sum = comp_1.__add__(comp_2)
    print(comp_sum)
elif(choice==2):
    comp_1=complex_numbers(a1,a2)
    comp_2=complex_numbers(b1,b2)
    comp_diff= comp_1.__sub__(comp_2)
    print(comp_diff)
elif(choice==3):
    comp_1=complex_numbers(a1,a2)
    comp_2=complex_numbers(b1,b2)
    comp_prod=comp_1.__mul__(comp_2)
    print(comp_prod)
elif(choice==4):
    comp_1=complex_numbers(a1,a2)
    comp_2=complex_numbers(b1,b2)
    comp_quot=comp_1.__truediv__(comp_2)
    print(comp_quot)
elif(choice==5):
    comp_1=complex_numbers(a1,a2)
    comp_abs=comp_1.modulus()
    print(comp_abs)
elif(choice==6):
    comp_1=complex_numbers(a1,a2)
    comp_conj=comp_1.conjugate()
    print(comp_conj)
elif(choice==7):
    comp_1=complex_numbers(a1,a2)
    comp_arg=comp_1.argument()
    print(comp_arg)
